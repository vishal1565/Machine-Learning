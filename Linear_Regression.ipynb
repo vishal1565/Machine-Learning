{
 "cells": [
  {
   "cell_type": "markdown",
   "metadata": {},
   "source": [
    "Linear Regression to predict House prices\n",
    "Data Used: BOSTON HOUSING DATA\n",
    "link: https://archive.ics.uci.edu/ml/machine-learning-databases/housing/"
   ]
  },
  {
   "cell_type": "code",
   "execution_count": null,
   "metadata": {},
   "outputs": [],
   "source": [
    "#Linear Regression to "
   ]
  },
  {
   "cell_type": "code",
   "execution_count": 15,
   "metadata": {},
   "outputs": [],
   "source": [
    "from pandas import read_csv\n",
    "import sklearn as skl"
   ]
  },
  {
   "cell_type": "code",
   "execution_count": 16,
   "metadata": {},
   "outputs": [],
   "source": [
    "filename='https://archive.ics.uci.edu/ml/machine-learning-databases/housing/housing.data'"
   ]
  },
  {
   "cell_type": "code",
   "execution_count": 17,
   "metadata": {},
   "outputs": [
    {
     "data": {
      "text/plain": [
       "\"\\nAttribute Information:\\n\\n    1. CrimeRate      per capita crime rate by town\\n    2. Zone        proportion of residential land zoned for lots over \\n                 25,000 sq.ft.\\n    3. Indus     proportion of non-retail business acres per town\\n    4. Chas      Charles River dummy variable (= 1 if tract bounds \\n                 river; 0 otherwise)\\n    5. NOx       nitric oxides concentration (parts per 10 million)\\n    6. Rooms        average number of rooms per dwelling\\n    7. Age       proportion of owner-occupied units built prior to 1940\\n    8. Dis       weighted distances to five Boston employment centres\\n    9. Rad       index of accessibility to radial highways\\n    10. Tax      full-value property-tax rate per $10,000\\n    11. PT_Ratio  pupil-teacher ratio by town\\n    12. Blacks        1000(Bk - 0.63)^2 where Bk is the proportion of blacks \\n                 by town\\n    13. Lstat    % lower status of the population\\n    14. MedVal    Median value of owner-occupied homes in $1000's\\n    \""
      ]
     },
     "execution_count": 17,
     "metadata": {},
     "output_type": "execute_result"
    }
   ],
   "source": [
    "feature_names=['CrimeRate','Zone','Indus','Chas''NOx','Rooms','Age','Dis','Rad','Tax','PT_Ratio','Blacks','Lstat','MedVal']\n",
    "'''\n",
    "Attribute Information:\n",
    "\n",
    "    1. CrimeRate      per capita crime rate by town\n",
    "    2. Zone        proportion of residential land zoned for lots over \n",
    "                 25,000 sq.ft.\n",
    "    3. Indus     proportion of non-retail business acres per town\n",
    "    4. Chas      Charles River dummy variable (= 1 if tract bounds \n",
    "                 river; 0 otherwise)\n",
    "    5. NOx       nitric oxides concentration (parts per 10 million)\n",
    "    6. Rooms        average number of rooms per dwelling\n",
    "    7. Age       proportion of owner-occupied units built prior to 1940\n",
    "    8. Dis       weighted distances to five Boston employment centres\n",
    "    9. Rad       index of accessibility to radial highways\n",
    "    10. Tax      full-value property-tax rate per $10,000\n",
    "    11. PT_Ratio  pupil-teacher ratio by town\n",
    "    12. Blacks        1000(Bk - 0.63)^2 where Bk is the proportion of blacks \n",
    "                 by town\n",
    "    13. Lstat    % lower status of the population\n",
    "    14. MedVal    Median value of owner-occupied homes in $1000's\n",
    "    '''"
   ]
  },
  {
   "cell_type": "code",
   "execution_count": 18,
   "metadata": {},
   "outputs": [],
   "source": [
    "dataframe=read_csv(filename,delim_whitespace=True,names=feature_names)"
   ]
  },
  {
   "cell_type": "code",
   "execution_count": 19,
   "metadata": {},
   "outputs": [
    {
     "name": "stdout",
     "output_type": "stream",
     "text": [
      "          CrimeRate   Zone  Indus  ChasNOx  Rooms    Age     Dis  Rad    Tax  \\\n",
      "0.00632        18.0   2.31      0    0.538  6.575   65.2  4.0900    1  296.0   \n",
      "0.02731         0.0   7.07      0    0.469  6.421   78.9  4.9671    2  242.0   \n",
      "0.02729         0.0   7.07      0    0.469  7.185   61.1  4.9671    2  242.0   \n",
      "0.03237         0.0   2.18      0    0.458  6.998   45.8  6.0622    3  222.0   \n",
      "0.06905         0.0   2.18      0    0.458  7.147   54.2  6.0622    3  222.0   \n",
      "0.02985         0.0   2.18      0    0.458  6.430   58.7  6.0622    3  222.0   \n",
      "0.08829        12.5   7.87      0    0.524  6.012   66.6  5.5605    5  311.0   \n",
      "0.14455        12.5   7.87      0    0.524  6.172   96.1  5.9505    5  311.0   \n",
      "0.21124        12.5   7.87      0    0.524  5.631  100.0  6.0821    5  311.0   \n",
      "0.17004        12.5   7.87      0    0.524  6.004   85.9  6.5921    5  311.0   \n",
      "0.22489        12.5   7.87      0    0.524  6.377   94.3  6.3467    5  311.0   \n",
      "0.11747        12.5   7.87      0    0.524  6.009   82.9  6.2267    5  311.0   \n",
      "0.09378        12.5   7.87      0    0.524  5.889   39.0  5.4509    5  311.0   \n",
      "0.62976         0.0   8.14      0    0.538  5.949   61.8  4.7075    4  307.0   \n",
      "0.63796         0.0   8.14      0    0.538  6.096   84.5  4.4619    4  307.0   \n",
      "0.62739         0.0   8.14      0    0.538  5.834   56.5  4.4986    4  307.0   \n",
      "1.05393         0.0   8.14      0    0.538  5.935   29.3  4.4986    4  307.0   \n",
      "0.78420         0.0   8.14      0    0.538  5.990   81.7  4.2579    4  307.0   \n",
      "0.80271         0.0   8.14      0    0.538  5.456   36.6  3.7965    4  307.0   \n",
      "0.72580         0.0   8.14      0    0.538  5.727   69.5  3.7965    4  307.0   \n",
      "1.25179         0.0   8.14      0    0.538  5.570   98.1  3.7979    4  307.0   \n",
      "0.85204         0.0   8.14      0    0.538  5.965   89.2  4.0123    4  307.0   \n",
      "1.23247         0.0   8.14      0    0.538  6.142   91.7  3.9769    4  307.0   \n",
      "0.98843         0.0   8.14      0    0.538  5.813  100.0  4.0952    4  307.0   \n",
      "0.75026         0.0   8.14      0    0.538  5.924   94.1  4.3996    4  307.0   \n",
      "0.84054         0.0   8.14      0    0.538  5.599   85.7  4.4546    4  307.0   \n",
      "0.67191         0.0   8.14      0    0.538  5.813   90.3  4.6820    4  307.0   \n",
      "0.95577         0.0   8.14      0    0.538  6.047   88.8  4.4534    4  307.0   \n",
      "0.77299         0.0   8.14      0    0.538  6.495   94.4  4.4547    4  307.0   \n",
      "1.00245         0.0   8.14      0    0.538  6.674   87.3  4.2390    4  307.0   \n",
      "...             ...    ...    ...      ...    ...    ...     ...  ...    ...   \n",
      "4.87141         0.0  18.10      0    0.614  6.484   93.6  2.3053   24  666.0   \n",
      "15.02340        0.0  18.10      0    0.614  5.304   97.3  2.1007   24  666.0   \n",
      "10.23300        0.0  18.10      0    0.614  6.185   96.7  2.1705   24  666.0   \n",
      "14.33370        0.0  18.10      0    0.614  6.229   88.0  1.9512   24  666.0   \n",
      "5.82401         0.0  18.10      0    0.532  6.242   64.7  3.4242   24  666.0   \n",
      "5.70818         0.0  18.10      0    0.532  6.750   74.9  3.3317   24  666.0   \n",
      "5.73116         0.0  18.10      0    0.532  7.061   77.0  3.4106   24  666.0   \n",
      "2.81838         0.0  18.10      0    0.532  5.762   40.3  4.0983   24  666.0   \n",
      "2.37857         0.0  18.10      0    0.583  5.871   41.9  3.7240   24  666.0   \n",
      "3.67367         0.0  18.10      0    0.583  6.312   51.9  3.9917   24  666.0   \n",
      "5.69175         0.0  18.10      0    0.583  6.114   79.8  3.5459   24  666.0   \n",
      "4.83567         0.0  18.10      0    0.583  5.905   53.2  3.1523   24  666.0   \n",
      "0.15086         0.0  27.74      0    0.609  5.454   92.7  1.8209    4  711.0   \n",
      "0.18337         0.0  27.74      0    0.609  5.414   98.3  1.7554    4  711.0   \n",
      "0.20746         0.0  27.74      0    0.609  5.093   98.0  1.8226    4  711.0   \n",
      "0.10574         0.0  27.74      0    0.609  5.983   98.8  1.8681    4  711.0   \n",
      "0.11132         0.0  27.74      0    0.609  5.983   83.5  2.1099    4  711.0   \n",
      "0.17331         0.0   9.69      0    0.585  5.707   54.0  2.3817    6  391.0   \n",
      "0.27957         0.0   9.69      0    0.585  5.926   42.6  2.3817    6  391.0   \n",
      "0.17899         0.0   9.69      0    0.585  5.670   28.8  2.7986    6  391.0   \n",
      "0.28960         0.0   9.69      0    0.585  5.390   72.9  2.7986    6  391.0   \n",
      "0.26838         0.0   9.69      0    0.585  5.794   70.6  2.8927    6  391.0   \n",
      "0.23912         0.0   9.69      0    0.585  6.019   65.3  2.4091    6  391.0   \n",
      "0.17783         0.0   9.69      0    0.585  5.569   73.5  2.3999    6  391.0   \n",
      "0.22438         0.0   9.69      0    0.585  6.027   79.7  2.4982    6  391.0   \n",
      "0.06263         0.0  11.93      0    0.573  6.593   69.1  2.4786    1  273.0   \n",
      "0.04527         0.0  11.93      0    0.573  6.120   76.7  2.2875    1  273.0   \n",
      "0.06076         0.0  11.93      0    0.573  6.976   91.0  2.1675    1  273.0   \n",
      "0.10959         0.0  11.93      0    0.573  6.794   89.3  2.3889    1  273.0   \n",
      "0.04741         0.0  11.93      0    0.573  6.030   80.8  2.5050    1  273.0   \n",
      "\n",
      "          PT_Ratio  Blacks  Lstat  MedVal  \n",
      "0.00632       15.3  396.90   4.98    24.0  \n",
      "0.02731       17.8  396.90   9.14    21.6  \n",
      "0.02729       17.8  392.83   4.03    34.7  \n",
      "0.03237       18.7  394.63   2.94    33.4  \n",
      "0.06905       18.7  396.90   5.33    36.2  \n",
      "0.02985       18.7  394.12   5.21    28.7  \n",
      "0.08829       15.2  395.60  12.43    22.9  \n",
      "0.14455       15.2  396.90  19.15    27.1  \n",
      "0.21124       15.2  386.63  29.93    16.5  \n",
      "0.17004       15.2  386.71  17.10    18.9  \n",
      "0.22489       15.2  392.52  20.45    15.0  \n",
      "0.11747       15.2  396.90  13.27    18.9  \n",
      "0.09378       15.2  390.50  15.71    21.7  \n",
      "0.62976       21.0  396.90   8.26    20.4  \n",
      "0.63796       21.0  380.02  10.26    18.2  \n",
      "0.62739       21.0  395.62   8.47    19.9  \n",
      "1.05393       21.0  386.85   6.58    23.1  \n",
      "0.78420       21.0  386.75  14.67    17.5  \n",
      "0.80271       21.0  288.99  11.69    20.2  \n",
      "0.72580       21.0  390.95  11.28    18.2  \n",
      "1.25179       21.0  376.57  21.02    13.6  \n",
      "0.85204       21.0  392.53  13.83    19.6  \n",
      "1.23247       21.0  396.90  18.72    15.2  \n",
      "0.98843       21.0  394.54  19.88    14.5  \n",
      "0.75026       21.0  394.33  16.30    15.6  \n",
      "0.84054       21.0  303.42  16.51    13.9  \n",
      "0.67191       21.0  376.88  14.81    16.6  \n",
      "0.95577       21.0  306.38  17.28    14.8  \n",
      "0.77299       21.0  387.94  12.80    18.4  \n",
      "1.00245       21.0  380.23  11.98    21.0  \n",
      "...            ...     ...    ...     ...  \n",
      "4.87141       20.2  396.21  18.68    16.7  \n",
      "15.02340      20.2  349.48  24.91    12.0  \n",
      "10.23300      20.2  379.70  18.03    14.6  \n",
      "14.33370      20.2  383.32  13.11    21.4  \n",
      "5.82401       20.2  396.90  10.74    23.0  \n",
      "5.70818       20.2  393.07   7.74    23.7  \n",
      "5.73116       20.2  395.28   7.01    25.0  \n",
      "2.81838       20.2  392.92  10.42    21.8  \n",
      "2.37857       20.2  370.73  13.34    20.6  \n",
      "3.67367       20.2  388.62  10.58    21.2  \n",
      "5.69175       20.2  392.68  14.98    19.1  \n",
      "4.83567       20.2  388.22  11.45    20.6  \n",
      "0.15086       20.1  395.09  18.06    15.2  \n",
      "0.18337       20.1  344.05  23.97     7.0  \n",
      "0.20746       20.1  318.43  29.68     8.1  \n",
      "0.10574       20.1  390.11  18.07    13.6  \n",
      "0.11132       20.1  396.90  13.35    20.1  \n",
      "0.17331       19.2  396.90  12.01    21.8  \n",
      "0.27957       19.2  396.90  13.59    24.5  \n",
      "0.17899       19.2  393.29  17.60    23.1  \n",
      "0.28960       19.2  396.90  21.14    19.7  \n",
      "0.26838       19.2  396.90  14.10    18.3  \n",
      "0.23912       19.2  396.90  12.92    21.2  \n",
      "0.17783       19.2  395.77  15.10    17.5  \n",
      "0.22438       19.2  396.90  14.33    16.8  \n",
      "0.06263       21.0  391.99   9.67    22.4  \n",
      "0.04527       21.0  396.90   9.08    20.6  \n",
      "0.06076       21.0  396.90   5.64    23.9  \n",
      "0.10959       21.0  393.45   6.48    22.0  \n",
      "0.04741       21.0  396.90   7.88    11.9  \n",
      "\n",
      "[506 rows x 13 columns]\n"
     ]
    }
   ],
   "source": [
    "print(dataframe)"
   ]
  },
  {
   "cell_type": "code",
   "execution_count": 20,
   "metadata": {},
   "outputs": [
    {
     "data": {
      "text/html": [
       "<div>\n",
       "<style scoped>\n",
       "    .dataframe tbody tr th:only-of-type {\n",
       "        vertical-align: middle;\n",
       "    }\n",
       "\n",
       "    .dataframe tbody tr th {\n",
       "        vertical-align: top;\n",
       "    }\n",
       "\n",
       "    .dataframe thead th {\n",
       "        text-align: right;\n",
       "    }\n",
       "</style>\n",
       "<table border=\"1\" class=\"dataframe\">\n",
       "  <thead>\n",
       "    <tr style=\"text-align: right;\">\n",
       "      <th></th>\n",
       "      <th>CrimeRate</th>\n",
       "      <th>Zone</th>\n",
       "      <th>Indus</th>\n",
       "      <th>ChasNOx</th>\n",
       "      <th>Rooms</th>\n",
       "      <th>Age</th>\n",
       "      <th>Dis</th>\n",
       "      <th>Rad</th>\n",
       "      <th>Tax</th>\n",
       "      <th>PT_Ratio</th>\n",
       "      <th>Blacks</th>\n",
       "      <th>Lstat</th>\n",
       "      <th>MedVal</th>\n",
       "    </tr>\n",
       "  </thead>\n",
       "  <tbody>\n",
       "    <tr>\n",
       "      <th>count</th>\n",
       "      <td>506.000000</td>\n",
       "      <td>506.000000</td>\n",
       "      <td>506.000000</td>\n",
       "      <td>506.000000</td>\n",
       "      <td>506.000000</td>\n",
       "      <td>506.000000</td>\n",
       "      <td>506.000000</td>\n",
       "      <td>506.000000</td>\n",
       "      <td>506.000000</td>\n",
       "      <td>506.000000</td>\n",
       "      <td>506.000000</td>\n",
       "      <td>506.000000</td>\n",
       "      <td>506.000000</td>\n",
       "    </tr>\n",
       "    <tr>\n",
       "      <th>mean</th>\n",
       "      <td>11.363636</td>\n",
       "      <td>11.136779</td>\n",
       "      <td>0.069170</td>\n",
       "      <td>0.554695</td>\n",
       "      <td>6.284634</td>\n",
       "      <td>68.574901</td>\n",
       "      <td>3.795043</td>\n",
       "      <td>9.549407</td>\n",
       "      <td>408.237154</td>\n",
       "      <td>18.455534</td>\n",
       "      <td>356.674032</td>\n",
       "      <td>12.653063</td>\n",
       "      <td>22.532806</td>\n",
       "    </tr>\n",
       "    <tr>\n",
       "      <th>std</th>\n",
       "      <td>23.322453</td>\n",
       "      <td>6.860353</td>\n",
       "      <td>0.253994</td>\n",
       "      <td>0.115878</td>\n",
       "      <td>0.702617</td>\n",
       "      <td>28.148861</td>\n",
       "      <td>2.105710</td>\n",
       "      <td>8.707259</td>\n",
       "      <td>168.537116</td>\n",
       "      <td>2.164946</td>\n",
       "      <td>91.294864</td>\n",
       "      <td>7.141062</td>\n",
       "      <td>9.197104</td>\n",
       "    </tr>\n",
       "    <tr>\n",
       "      <th>min</th>\n",
       "      <td>0.000000</td>\n",
       "      <td>0.460000</td>\n",
       "      <td>0.000000</td>\n",
       "      <td>0.385000</td>\n",
       "      <td>3.561000</td>\n",
       "      <td>2.900000</td>\n",
       "      <td>1.129600</td>\n",
       "      <td>1.000000</td>\n",
       "      <td>187.000000</td>\n",
       "      <td>12.600000</td>\n",
       "      <td>0.320000</td>\n",
       "      <td>1.730000</td>\n",
       "      <td>5.000000</td>\n",
       "    </tr>\n",
       "    <tr>\n",
       "      <th>25%</th>\n",
       "      <td>0.000000</td>\n",
       "      <td>5.190000</td>\n",
       "      <td>0.000000</td>\n",
       "      <td>0.449000</td>\n",
       "      <td>5.885500</td>\n",
       "      <td>45.025000</td>\n",
       "      <td>2.100175</td>\n",
       "      <td>4.000000</td>\n",
       "      <td>279.000000</td>\n",
       "      <td>17.400000</td>\n",
       "      <td>375.377500</td>\n",
       "      <td>6.950000</td>\n",
       "      <td>17.025000</td>\n",
       "    </tr>\n",
       "    <tr>\n",
       "      <th>50%</th>\n",
       "      <td>0.000000</td>\n",
       "      <td>9.690000</td>\n",
       "      <td>0.000000</td>\n",
       "      <td>0.538000</td>\n",
       "      <td>6.208500</td>\n",
       "      <td>77.500000</td>\n",
       "      <td>3.207450</td>\n",
       "      <td>5.000000</td>\n",
       "      <td>330.000000</td>\n",
       "      <td>19.050000</td>\n",
       "      <td>391.440000</td>\n",
       "      <td>11.360000</td>\n",
       "      <td>21.200000</td>\n",
       "    </tr>\n",
       "    <tr>\n",
       "      <th>75%</th>\n",
       "      <td>12.500000</td>\n",
       "      <td>18.100000</td>\n",
       "      <td>0.000000</td>\n",
       "      <td>0.624000</td>\n",
       "      <td>6.623500</td>\n",
       "      <td>94.075000</td>\n",
       "      <td>5.188425</td>\n",
       "      <td>24.000000</td>\n",
       "      <td>666.000000</td>\n",
       "      <td>20.200000</td>\n",
       "      <td>396.225000</td>\n",
       "      <td>16.955000</td>\n",
       "      <td>25.000000</td>\n",
       "    </tr>\n",
       "    <tr>\n",
       "      <th>max</th>\n",
       "      <td>100.000000</td>\n",
       "      <td>27.740000</td>\n",
       "      <td>1.000000</td>\n",
       "      <td>0.871000</td>\n",
       "      <td>8.780000</td>\n",
       "      <td>100.000000</td>\n",
       "      <td>12.126500</td>\n",
       "      <td>24.000000</td>\n",
       "      <td>711.000000</td>\n",
       "      <td>22.000000</td>\n",
       "      <td>396.900000</td>\n",
       "      <td>37.970000</td>\n",
       "      <td>50.000000</td>\n",
       "    </tr>\n",
       "  </tbody>\n",
       "</table>\n",
       "</div>"
      ],
      "text/plain": [
       "        CrimeRate        Zone       Indus     ChasNOx       Rooms         Age  \\\n",
       "count  506.000000  506.000000  506.000000  506.000000  506.000000  506.000000   \n",
       "mean    11.363636   11.136779    0.069170    0.554695    6.284634   68.574901   \n",
       "std     23.322453    6.860353    0.253994    0.115878    0.702617   28.148861   \n",
       "min      0.000000    0.460000    0.000000    0.385000    3.561000    2.900000   \n",
       "25%      0.000000    5.190000    0.000000    0.449000    5.885500   45.025000   \n",
       "50%      0.000000    9.690000    0.000000    0.538000    6.208500   77.500000   \n",
       "75%     12.500000   18.100000    0.000000    0.624000    6.623500   94.075000   \n",
       "max    100.000000   27.740000    1.000000    0.871000    8.780000  100.000000   \n",
       "\n",
       "              Dis         Rad         Tax    PT_Ratio      Blacks       Lstat  \\\n",
       "count  506.000000  506.000000  506.000000  506.000000  506.000000  506.000000   \n",
       "mean     3.795043    9.549407  408.237154   18.455534  356.674032   12.653063   \n",
       "std      2.105710    8.707259  168.537116    2.164946   91.294864    7.141062   \n",
       "min      1.129600    1.000000  187.000000   12.600000    0.320000    1.730000   \n",
       "25%      2.100175    4.000000  279.000000   17.400000  375.377500    6.950000   \n",
       "50%      3.207450    5.000000  330.000000   19.050000  391.440000   11.360000   \n",
       "75%      5.188425   24.000000  666.000000   20.200000  396.225000   16.955000   \n",
       "max     12.126500   24.000000  711.000000   22.000000  396.900000   37.970000   \n",
       "\n",
       "           MedVal  \n",
       "count  506.000000  \n",
       "mean    22.532806  \n",
       "std      9.197104  \n",
       "min      5.000000  \n",
       "25%     17.025000  \n",
       "50%     21.200000  \n",
       "75%     25.000000  \n",
       "max     50.000000  "
      ]
     },
     "execution_count": 20,
     "metadata": {},
     "output_type": "execute_result"
    }
   ],
   "source": [
    "array=dataframe.values\n",
    "dataframe.describe()"
   ]
  },
  {
   "cell_type": "code",
   "execution_count": 28,
   "metadata": {},
   "outputs": [
    {
     "name": "stdout",
     "output_type": "stream",
     "text": [
      "[[ 18.     2.31   0.   ...  15.3  396.9    4.98]\n",
      " [  0.     7.07   0.   ...  17.8  396.9    9.14]\n",
      " [  0.     7.07   0.   ...  17.8  392.83   4.03]\n",
      " ...\n",
      " [  0.    11.93   0.   ...  21.   396.9    5.64]\n",
      " [  0.    11.93   0.   ...  21.   393.45   6.48]\n",
      " [  0.    11.93   0.   ...  21.   396.9    7.88]]\n"
     ]
    }
   ],
   "source": [
    "X=array[:,0:12]\n",
    "Y=array[:,12]"
   ]
  },
  {
   "cell_type": "code",
   "execution_count": 22,
   "metadata": {},
   "outputs": [
    {
     "ename": "AttributeError",
     "evalue": "module 'sklearn' has no attribute 'model_selection'",
     "output_type": "error",
     "traceback": [
      "\u001b[1;31m---------------------------------------------------------------------------\u001b[0m",
      "\u001b[1;31mAttributeError\u001b[0m                            Traceback (most recent call last)",
      "\u001b[1;32m<ipython-input-22-f01a33f713dc>\u001b[0m in \u001b[0;36m<module>\u001b[1;34m()\u001b[0m\n\u001b[1;32m----> 1\u001b[1;33m \u001b[0mkfold\u001b[0m\u001b[1;33m=\u001b[0m\u001b[0mskl\u001b[0m\u001b[1;33m.\u001b[0m\u001b[0mmodel_selection\u001b[0m\u001b[1;33m.\u001b[0m\u001b[0mKFold\u001b[0m\u001b[1;33m(\u001b[0m\u001b[0mn_splits\u001b[0m\u001b[1;33m=\u001b[0m\u001b[1;36m10\u001b[0m\u001b[1;33m,\u001b[0m\u001b[0mrandom_state\u001b[0m\u001b[1;33m=\u001b[0m\u001b[1;36m7\u001b[0m\u001b[1;33m)\u001b[0m\u001b[1;33m\u001b[0m\u001b[0m\n\u001b[0m\u001b[0;32m      2\u001b[0m \u001b[0mmodel\u001b[0m\u001b[1;33m=\u001b[0m\u001b[0mskl\u001b[0m\u001b[1;33m.\u001b[0m\u001b[0mlinear_model\u001b[0m\u001b[1;33m.\u001b[0m\u001b[0mLinearRegression\u001b[0m\u001b[1;33m(\u001b[0m\u001b[1;33m)\u001b[0m\u001b[1;33m\u001b[0m\u001b[0m\n",
      "\u001b[1;31mAttributeError\u001b[0m: module 'sklearn' has no attribute 'model_selection'"
     ]
    }
   ],
   "source": [
    "kfold=skl.model_selection.KFold(n_splits=10,random_state=7)\n",
    "model=skl.linear_model.LinearRegression()"
   ]
  },
  {
   "cell_type": "code",
   "execution_count": 23,
   "metadata": {},
   "outputs": [],
   "source": [
    "scoring='neg_mean_squared_error'"
   ]
  },
  {
   "cell_type": "code",
   "execution_count": 24,
   "metadata": {},
   "outputs": [
    {
     "ename": "AttributeError",
     "evalue": "module 'sklearn' has no attribute 'model_selection'",
     "output_type": "error",
     "traceback": [
      "\u001b[1;31m---------------------------------------------------------------------------\u001b[0m",
      "\u001b[1;31mAttributeError\u001b[0m                            Traceback (most recent call last)",
      "\u001b[1;32m<ipython-input-24-f7e781286278>\u001b[0m in \u001b[0;36m<module>\u001b[1;34m()\u001b[0m\n\u001b[1;32m----> 1\u001b[1;33m \u001b[0mresults\u001b[0m\u001b[1;33m=\u001b[0m\u001b[0mskl\u001b[0m\u001b[1;33m.\u001b[0m\u001b[0mmodel_selection\u001b[0m\u001b[1;33m.\u001b[0m\u001b[0mcross_val_score\u001b[0m\u001b[1;33m(\u001b[0m\u001b[0mmodel\u001b[0m\u001b[1;33m,\u001b[0m\u001b[0mX\u001b[0m\u001b[1;33m,\u001b[0m\u001b[0mY\u001b[0m\u001b[1;33m,\u001b[0m\u001b[0mcv\u001b[0m\u001b[1;33m=\u001b[0m\u001b[0mkfold\u001b[0m\u001b[1;33m,\u001b[0m\u001b[0mscoring\u001b[0m\u001b[1;33m=\u001b[0m\u001b[0mscoring\u001b[0m\u001b[1;33m)\u001b[0m\u001b[1;33m\u001b[0m\u001b[0m\n\u001b[0m\u001b[0;32m      2\u001b[0m \u001b[0mprint\u001b[0m\u001b[1;33m(\u001b[0m\u001b[0mresults\u001b[0m\u001b[1;33m.\u001b[0m\u001b[0mmean\u001b[0m\u001b[1;33m(\u001b[0m\u001b[1;33m)\u001b[0m\u001b[1;33m)\u001b[0m\u001b[1;33m\u001b[0m\u001b[0m\n\u001b[0;32m      3\u001b[0m \u001b[0mprint\u001b[0m\u001b[1;33m(\u001b[0m\u001b[0mresults\u001b[0m\u001b[1;33m)\u001b[0m\u001b[1;33m\u001b[0m\u001b[0m\n\u001b[0;32m      4\u001b[0m \u001b[1;32mimport\u001b[0m \u001b[0mmatplotlib\u001b[0m\u001b[1;33m.\u001b[0m\u001b[0mpyplot\u001b[0m \u001b[1;32mas\u001b[0m \u001b[0mplt\u001b[0m\u001b[1;33m\u001b[0m\u001b[0m\n\u001b[0;32m      5\u001b[0m \u001b[0mplt\u001b[0m\u001b[1;33m.\u001b[0m\u001b[0mplot\u001b[0m\u001b[1;33m(\u001b[0m\u001b[0mresults\u001b[0m\u001b[1;33m)\u001b[0m\u001b[1;33m\u001b[0m\u001b[0m\n",
      "\u001b[1;31mAttributeError\u001b[0m: module 'sklearn' has no attribute 'model_selection'"
     ]
    }
   ],
   "source": [
    "results=skl.model_selection.cross_val_score(model,X,Y,cv=kfold,scoring=scoring)\n",
    "print(results.mean())\n",
    "print(results)\n",
    "import matplotlib.pyplot as plt\n",
    "plt.plot(results)"
   ]
  },
  {
   "cell_type": "code",
   "execution_count": 25,
   "metadata": {},
   "outputs": [
    {
     "ename": "AttributeError",
     "evalue": "module 'sklearn' has no attribute 'cross_validation'",
     "output_type": "error",
     "traceback": [
      "\u001b[1;31m---------------------------------------------------------------------------\u001b[0m",
      "\u001b[1;31mAttributeError\u001b[0m                            Traceback (most recent call last)",
      "\u001b[1;32m<ipython-input-25-8b7ea1412ecf>\u001b[0m in \u001b[0;36m<module>\u001b[1;34m()\u001b[0m\n\u001b[1;32m----> 1\u001b[1;33m \u001b[0mx_train\u001b[0m\u001b[1;33m,\u001b[0m\u001b[0mx_test\u001b[0m\u001b[1;33m,\u001b[0m\u001b[0my_train\u001b[0m\u001b[1;33m,\u001b[0m\u001b[0my_test\u001b[0m\u001b[1;33m=\u001b[0m\u001b[0mskl\u001b[0m\u001b[1;33m.\u001b[0m\u001b[0mcross_validation\u001b[0m\u001b[1;33m.\u001b[0m\u001b[0mtrain_test_split\u001b[0m\u001b[1;33m(\u001b[0m\u001b[0mX\u001b[0m\u001b[1;33m,\u001b[0m\u001b[0mY\u001b[0m\u001b[1;33m,\u001b[0m\u001b[0mtest_size\u001b[0m\u001b[1;33m=\u001b[0m\u001b[1;36m0.2\u001b[0m\u001b[1;33m,\u001b[0m\u001b[0mrandom_state\u001b[0m\u001b[1;33m=\u001b[0m\u001b[1;36m4\u001b[0m\u001b[1;33m)\u001b[0m\u001b[1;33m\u001b[0m\u001b[0m\n\u001b[0m",
      "\u001b[1;31mAttributeError\u001b[0m: module 'sklearn' has no attribute 'cross_validation'"
     ]
    }
   ],
   "source": [
    "x_train,x_test,y_train,y_test=skl.cross_validation.train_test_split(X,Y,test_size=0.2,random_state=4)"
   ]
  },
  {
   "cell_type": "code",
   "execution_count": 51,
   "metadata": {},
   "outputs": [
    {
     "data": {
      "text/plain": [
       "LinearRegression(copy_X=True, fit_intercept=True, n_jobs=1, normalize=False)"
      ]
     },
     "execution_count": 51,
     "metadata": {},
     "output_type": "execute_result"
    }
   ],
   "source": [
    "model.fit(x_train,y_train)"
   ]
  },
  {
   "cell_type": "code",
   "execution_count": 53,
   "metadata": {},
   "outputs": [
    {
     "data": {
      "text/plain": [
       "array([ 4.27463798e-02,  1.50819601e-02,  3.39302964e+00, -1.59607064e+01,\n",
       "        3.88905575e+00, -1.04807992e-02, -1.45889429e+00,  2.28396832e-01,\n",
       "       -1.32108421e-02, -8.96188511e-01,  8.83643220e-03, -4.91193102e-01])"
      ]
     },
     "execution_count": 53,
     "metadata": {},
     "output_type": "execute_result"
    }
   ],
   "source": [
    "model.coef_"
   ]
  },
  {
   "cell_type": "code",
   "execution_count": 54,
   "metadata": {},
   "outputs": [],
   "source": [
    "a=model.predict(x_test)"
   ]
  },
  {
   "cell_type": "code",
   "execution_count": 61,
   "metadata": {},
   "outputs": [
    {
     "data": {
      "text/plain": [
       "11.489378387911259"
      ]
     },
     "execution_count": 61,
     "metadata": {},
     "output_type": "execute_result"
    }
   ],
   "source": [
    "a[0]"
   ]
  },
  {
   "cell_type": "code",
   "execution_count": 66,
   "metadata": {},
   "outputs": [
    {
     "data": {
      "text/plain": [
       "[<matplotlib.lines.Line2D at 0x1fe8af12f98>]"
      ]
     },
     "execution_count": 66,
     "metadata": {},
     "output_type": "execute_result"
    },
    {
     "data": {
      "image/png": "[encoded data removed]",
      "text/plain": [
       "<matplotlib.figure.Figure at 0x1fe8ae99160>"
      ]
     },
     "metadata": {},
     "output_type": "display_data"
    }
   ],
   "source": [
    "y_test[0]\n",
    "plt.plot(a)\n",
    "plt.plot(y_test)"
   ]
  },
  {
   "cell_type": "code",
   "execution_count": 70,
   "metadata": {},
   "outputs": [
    {
     "name": "stdout",
     "output_type": "stream",
     "text": [
      "MSE:  25.705931134898844\n"
     ]
    },
    {
     "data": {
      "text/plain": [
       "[<matplotlib.lines.Line2D at 0x1fe8b039860>]"
      ]
     },
     "execution_count": 70,
     "metadata": {},
     "output_type": "execute_result"
    },
    {
     "data": {
      "image/png": "[encoded data removed]",
      "text/plain": [
       "<matplotlib.figure.Figure at 0x1fe8afbd828>"
      ]
     },
     "metadata": {},
     "output_type": "display_data"
    }
   ],
   "source": [
    "import numpy as np\n",
    "print(\"MSE: \",np.mean((a-y_test)**2))\n",
    "mse=(a-y_test)**2\n",
    "plt.plot(mse)"
   ]
  },
  {
   "cell_type": "code",
   "execution_count": null,
   "metadata": {},
   "outputs": [],
   "source": []
  }
 ],
 "metadata": {
  "kernelspec": {
   "display_name": "Python 3",
   "language": "python",
   "name": "python3"
  },
  "language_info": {
   "codemirror_mode": {
    "name": "ipython",
    "version": 3
   },
   "file_extension": ".py",
   "mimetype": "text/x-python",
   "name": "python",
   "nbconvert_exporter": "python",
   "pygments_lexer": "ipython3",
   "version": "3.6.4"
  }
 },
 "nbformat": 4,
 "nbformat_minor": 2
}
