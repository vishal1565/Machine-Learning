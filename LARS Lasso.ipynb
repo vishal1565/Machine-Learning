{
 "cells": [
  {
   "cell_type": "code",
   "execution_count": 1,
   "metadata": {},
   "outputs": [],
   "source": [
    "# LARS LASSO REGRESSION\n",
    "# using sklearn\n",
    "# importing required libraries\n",
    "\n",
    "from pandas import read_csv\n",
    "from sklearn.model_selection import KFold\n",
    "from sklearn.model_selection import cross_val_score\n",
    "from sklearn.linear_model import LassoLars"
   ]
  },
  {
   "cell_type": "code",
   "execution_count": 2,
   "metadata": {},
   "outputs": [],
   "source": [
    "# preparing data\n",
    "\n",
    "filename = 'bengin_traffic.csv'\n",
    "dataset = read_csv(filename)\n",
    "array = dataset.values\n",
    "x = array[:,0:114]\n",
    "y = array[:,114]\n",
    "kfold = KFold(n_splits=10, random_state=7)"
   ]
  },
  {
   "cell_type": "code",
   "execution_count": 3,
   "metadata": {},
   "outputs": [
    {
     "name": "stdout",
     "output_type": "stream",
     "text": [
      "[-0.03535361 -0.03320211 -0.03227653 -0.03438976 -0.0322558  -0.03461287\n",
      " -0.03400042 -0.03358941 -0.03280248 -0.03358131]\n",
      "-0.0336064305364248\n"
     ]
    }
   ],
   "source": [
    "# the real deal\n",
    "\n",
    "model = LassoLars()\n",
    "scoring = 'neg_mean_squared_error'\n",
    "results = cross_val_score(model, x, y, cv=kfold, scoring=scoring)\n",
    "print(results)\n",
    "print(results.mean())"
   ]
  },
  {
   "cell_type": "code",
   "execution_count": null,
   "metadata": {},
   "outputs": [],
   "source": []
  }
 ],
 "metadata": {
  "kernelspec": {
   "display_name": "Python 3",
   "language": "python",
   "name": "python3"
  },
  "language_info": {
   "codemirror_mode": {
    "name": "ipython",
    "version": 3
   },
   "file_extension": ".py",
   "mimetype": "text/x-python",
   "name": "python",
   "nbconvert_exporter": "python",
   "pygments_lexer": "ipython3",
   "version": "3.6.4"
  }
 },
 "nbformat": 4,
 "nbformat_minor": 2
}
